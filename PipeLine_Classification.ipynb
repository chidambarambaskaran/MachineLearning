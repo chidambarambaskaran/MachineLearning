{
  "nbformat": 4,
  "nbformat_minor": 0,
  "metadata": {
    "colab": {
      "provenance": [],
      "authorship_tag": "ABX9TyNIFqIHEBvitA1xgo5uNuZm",
      "include_colab_link": true
    },
    "kernelspec": {
      "name": "python3",
      "display_name": "Python 3"
    },
    "language_info": {
      "name": "python"
    }
  },
  "cells": [
    {
      "cell_type": "markdown",
      "metadata": {
        "id": "view-in-github",
        "colab_type": "text"
      },
      "source": [
        "<a href=\"https://colab.research.google.com/github/chidambarambaskaran/MachineLearning/blob/main/PipeLine_Classification.ipynb\" target=\"_parent\"><img src=\"https://colab.research.google.com/assets/colab-badge.svg\" alt=\"Open In Colab\"/></a>"
      ]
    },
    {
      "cell_type": "code",
      "source": [
        "import numpy as np\n",
        "import pandas as pd\n",
        "from sklearn.pipeline import Pipeline\n",
        "from sklearn.preprocessing import StandardScaler\n",
        "from sklearn.model_selection import train_test_split\n",
        "from sklearn.compose import ColumnTransformer\n",
        "from sklearn.preprocessing import OneHotEncoder\n",
        "from sklearn.impute import SimpleImputer\n",
        "from sklearn.linear_model import LogisticRegression\n",
        "from sklearn.svm import SVC\n",
        "from sklearn.naive_bayes import GaussianNB\n",
        "from sklearn.neighbors import KNeighborsClassifier\n",
        "from sklearn.tree import DecisionTreeClassifier\n",
        "from sklearn.ensemble import RandomForestClassifier\n",
        "from sklearn.svm import LinearSVC\n",
        "from sklearn.metrics import accuracy_score, f1_score\n",
        "\n",
        "data = pd.read_csv('Social_Network_Ads.csv')\n",
        "x = data.drop('Purchased', axis=1)\n",
        "y = data['Purchased']\n",
        "x_train, x_test, y_train, y_test = train_test_split(x, y, test_size=0.2, random_state=42)\n",
        "\n",
        "numerical_cols = x_train.select_dtypes(include=['int64', 'float64']).columns.tolist()\n",
        "categorical_cols = x_train.select_dtypes(include=['object']).columns.tolist()\n",
        "\n",
        "numerical_transformer = Pipeline(steps=[\n",
        "    ('imputer', SimpleImputer(strategy='mean')),\n",
        "    ('scaler', StandardScaler())\n",
        "])\n",
        "\n",
        "categorical_transformer = Pipeline(steps=[\n",
        "    ('imputer', SimpleImputer(strategy='most_frequent')),\n",
        "    ('onehot', OneHotEncoder(handle_unknown='ignore'))\n",
        "])\n",
        "\n",
        "preprocessor = ColumnTransformer(\n",
        "    transformers=[\n",
        "        ('num', numerical_transformer, numerical_cols),\n",
        "        ('cat', categorical_transformer, categorical_cols)\n",
        "    ])\n",
        "\n",
        "models = {\n",
        "    'Logistic Regression': LogisticRegression(max_iter=1000),\n",
        "    'Support Vector Classifier': SVC(kernel='rbf'),\n",
        "    'Gaussian Naive Bayes': GaussianNB(),\n",
        "    'K-Nearest Neighbors': KNeighborsClassifier(),\n",
        "    'Kernel SVM': SVC(kernel='linear'),\n",
        "    'Decision Tree': DecisionTreeClassifier(random_state=42),\n",
        "    'Random Forest': RandomForestClassifier(n_estimators=100, random_state=42)\n",
        "}\n",
        "\n",
        "for model_name, model in models.items():\n",
        "\n",
        "    model_pipeline = Pipeline(steps=[\n",
        "        ('preprocessor', preprocessor),\n",
        "        ('classifier', model)\n",
        "    ])\n",
        "\n",
        "    model_pipeline.fit(x_train, y_train)\n",
        "\n",
        "    y_pred = model_pipeline.predict(x_test)\n",
        "\n",
        "    accuracy = accuracy_score(y_test, y_pred)\n",
        "    f1 = f1_score(y_test, y_pred)\n",
        "\n",
        "    print(f\"{model_name}:\")\n",
        "    print(f\"  Accuracy: {accuracy:.2f}\")\n",
        "    print(f\"  F1 Score: {f1:.2f}\")\n",
        "    print(\"-\" * 50)"
      ],
      "metadata": {
        "colab": {
          "base_uri": "https://localhost:8080/"
        },
        "id": "vDoWfR_XZINj",
        "outputId": "b89197de-ccca-404d-bcd5-b1b6a423c16f"
      },
      "execution_count": 46,
      "outputs": [
        {
          "output_type": "stream",
          "name": "stdout",
          "text": [
            "Logistic Regression:\n",
            "  Accuracy: 0.86\n",
            "  F1 Score: 0.78\n",
            "--------------------------------------------------\n",
            "Support Vector Classifier:\n",
            "  Accuracy: 0.93\n",
            "  F1 Score: 0.90\n",
            "--------------------------------------------------\n",
            "Gaussian Naive Bayes:\n",
            "  Accuracy: 0.94\n",
            "  F1 Score: 0.91\n",
            "--------------------------------------------------\n",
            "K-Nearest Neighbors:\n",
            "  Accuracy: 0.91\n",
            "  F1 Score: 0.88\n",
            "--------------------------------------------------\n",
            "Kernel SVM:\n",
            "  Accuracy: 0.86\n",
            "  F1 Score: 0.78\n",
            "--------------------------------------------------\n",
            "Decision Tree:\n",
            "  Accuracy: 0.84\n",
            "  F1 Score: 0.76\n",
            "--------------------------------------------------\n",
            "Random Forest:\n",
            "  Accuracy: 0.89\n",
            "  F1 Score: 0.85\n",
            "--------------------------------------------------\n"
          ]
        }
      ]
    }
  ]
}